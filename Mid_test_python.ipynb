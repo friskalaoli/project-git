{
  "nbformat": 4,
  "nbformat_minor": 0,
  "metadata": {
    "colab": {
      "provenance": []
    },
    "kernelspec": {
      "name": "python3",
      "display_name": "Python 3"
    },
    "language_info": {
      "name": "python"
    }
  },
  "cells": [
    {
      "cell_type": "code",
      "execution_count": null,
      "metadata": {
        "id": "fVOCfS7De0rF"
      },
      "outputs": [],
      "source": [
        "def third_place (nama, skor):\n",
        "  # Membuat dictionary yang memetakan skor ke nama\n",
        "    score_to_names = {}\n",
        "    for i in range (len(skor)):\n",
        "      if skor [i] not in\n",
        "    score_to_names:\n",
        "\n",
        "    score_to_names [skor[i]]=\n",
        "    [nama[i]]\n",
        "      else:\n",
        "    score_to_names[skor[i]].append (nama[i])\n",
        "\n",
        "    #MENGURUTKAN SKOR DALAM URUTAN MENURUN\n",
        "        sorted_scores =\n",
        "        sorted (score_to_names.key(), reverse =True)\n",
        "\n",
        "    #MENCARI PEMENANG KETIGA\n",
        "      if len (sorted_scores) < 3:\n",
        "        return \"Tidak cukup peserta untuk menentukan pemenang ketiga\"\n",
        "        else :\n",
        "          third_place_winners=score_to_names [sorted_scores[2]]\n",
        "          return 'Pemenang ketiga : '+',\n",
        "          '. join (third_place_winners)"
      ]
    },
    {
      "cell_type": "code",
      "source": [
        "jarak def (titik_1,titik_2):\n",
        "\n",
        "  # Menghitung jarak Euclidean antara dua titik\n",
        "\n",
        "  dist = math. sqrt((titik_1[0] - titik_2[0] )**2 + (titik_1[1]-titik_2[1])**2\n",
        "        return 'Jaraknya'  + str (dist)"
      ],
      "metadata": {
        "id": "hLJfvYTDsa4_"
      },
      "execution_count": null,
      "outputs": []
    },
    {
      "cell_type": "code",
      "source": [],
      "metadata": {
        "id": "THHtSO6oqczg"
      },
      "execution_count": null,
      "outputs": []
    }
  ]
}